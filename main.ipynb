{
 "cells": [
  {
   "cell_type": "code",
   "execution_count": 3,
   "metadata": {},
   "outputs": [],
   "source": [
    "import warnings\n",
    "warnings.filterwarnings(\"ignore\")\n",
    "from pickletools import optimize\n",
    "from random import seed\n",
    "import torch\n",
    "import torch.nn as nn\n",
    "from utils import seed_tuna as seed \n",
    "import argparse\n",
    "from sklearn.model_selection import KFold\n",
    "from utils import SleepECG_Data2 as slee2\n",
    "from utils import SleepECG_Data3 as sleep3\n",
    "\n",
    "from torch.utils.data import Dataset, DataLoader\n",
    "import tqdm\n",
    "from sklearn.metrics import *\n",
    "import json\n",
    "import torch.nn.functional as F\n",
    "from torchvision import models\n",
    "import numpy as np\n",
    "from torchsummary import summary\n",
    "from model import SeResModel as se\n",
    "from model import Lenet5\n"
   ]
  },
  {
   "cell_type": "code",
   "execution_count": 5,
   "metadata": {},
   "outputs": [
    {
     "name": "stdout",
     "output_type": "stream",
     "text": [
      "Device state: cuda:0,1,2,3\n"
     ]
    }
   ],
   "source": [
    "device = 'cuda:0,1,2,3' if torch.cuda.is_available() else 'cpu'\n",
    "print('Device state:', device)"
   ]
  },
  {
   "cell_type": "code",
   "execution_count": null,
   "metadata": {},
   "outputs": [],
   "source": []
  }
 ],
 "metadata": {
  "interpreter": {
   "hash": "31f2aee4e71d21fbe5cf8b01ff0e069b9275f58929596ceb00d14d90e3e16cd6"
  },
  "kernelspec": {
   "display_name": "Python 3.9.7 64-bit",
   "language": "python",
   "name": "python3"
  },
  "language_info": {
   "codemirror_mode": {
    "name": "ipython",
    "version": 3
   },
   "file_extension": ".py",
   "mimetype": "text/x-python",
   "name": "python",
   "nbconvert_exporter": "python",
   "pygments_lexer": "ipython3",
   "version": "3.9.12"
  },
  "orig_nbformat": 4
 },
 "nbformat": 4,
 "nbformat_minor": 2
}
